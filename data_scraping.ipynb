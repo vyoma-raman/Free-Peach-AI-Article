{
 "cells": [
  {
   "cell_type": "code",
   "execution_count": 1,
   "id": "fb4d4412",
   "metadata": {},
   "outputs": [],
   "source": [
    "import requests\n",
    "from bs4 import BeautifulSoup as bs"
   ]
  },
  {
   "cell_type": "code",
   "execution_count": 2,
   "id": "e189aa6e",
   "metadata": {},
   "outputs": [],
   "source": [
    "writers = {'vyomaraman': 1, 'abbfisher': 3, 'valmicmukund': 4, 'ajaymadala2025': 2, \n",
    "           'jojowb': 1, 'tylergoldstein': 5}"
   ]
  },
  {
   "cell_type": "code",
   "execution_count": 3,
   "id": "5fbef9e4",
   "metadata": {},
   "outputs": [],
   "source": [
    "endpt = 'https://thefreepeach.com/author/'"
   ]
  },
  {
   "cell_type": "code",
   "execution_count": 4,
   "id": "69e5fea2",
   "metadata": {},
   "outputs": [
    {
     "data": {
      "text/plain": [
       "29"
      ]
     },
     "execution_count": 4,
     "metadata": {},
     "output_type": "execute_result"
    }
   ],
   "source": [
    "urls = []\n",
    "for name in writers:\n",
    "    pages = writers[name]\n",
    "    for p in range(1, pages+1):\n",
    "        html = requests.get(endpt + name + '/page/' + str(pages)).text\n",
    "        soup = bs(html,'lxml')\n",
    "        for e in soup.find_all(class_='entry-title'):\n",
    "            for t in e.find_all('a', href=True):\n",
    "                urls.append(t['href'])\n",
    "urls = list(set(urls))[1:]\n",
    "len(urls)"
   ]
  },
  {
   "cell_type": "code",
   "execution_count": 5,
   "id": "fb21c2b8",
   "metadata": {},
   "outputs": [],
   "source": [
    "text = ''\n",
    "for url in urls:\n",
    "    html = requests.get(url).text\n",
    "    soup = bs(html,'lxml')\n",
    "    for p in soup.find_all('p'):\n",
    "        text += '\\n' + '\\n'.join([sp.text for sp in p.find_all('span')])"
   ]
  },
  {
   "cell_type": "code",
   "execution_count": 6,
   "id": "ca8b3fa0",
   "metadata": {},
   "outputs": [],
   "source": [
    "with open('data.txt', 'w') as f:\n",
    "    f.write(text)"
   ]
  }
 ],
 "metadata": {
  "kernelspec": {
   "display_name": "Python 3",
   "language": "python",
   "name": "python3"
  },
  "language_info": {
   "codemirror_mode": {
    "name": "ipython",
    "version": 3
   },
   "file_extension": ".py",
   "mimetype": "text/x-python",
   "name": "python",
   "nbconvert_exporter": "python",
   "pygments_lexer": "ipython3",
   "version": "3.8.8"
  }
 },
 "nbformat": 4,
 "nbformat_minor": 5
}
